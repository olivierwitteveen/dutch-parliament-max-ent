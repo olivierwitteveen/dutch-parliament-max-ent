{
 "cells": [
  {
   "cell_type": "code",
   "execution_count": 58,
   "metadata": {},
   "outputs": [],
   "source": [
    "import numpy as np\n",
    "import pandas as pd\n",
    "import matplotlib.pyplot as plt"
   ]
  },
  {
   "cell_type": "markdown",
   "metadata": {},
   "source": [
    "# Importing data"
   ]
  },
  {
   "cell_type": "code",
   "execution_count": 3,
   "metadata": {},
   "outputs": [],
   "source": [
    "votes = pd.read_csv('data/votes.csv')"
   ]
  },
  {
   "cell_type": "code",
   "execution_count": 119,
   "metadata": {},
   "outputs": [
    {
     "name": "stdout",
     "output_type": "stream",
     "text": [
      "Index(['year', 'round', 'from_country_id', 'to_country_id', 'from_country',\n",
      "       'to_country', 'total_points', 'tele_points', 'jury_points'],\n",
      "      dtype='object')\n"
     ]
    }
   ],
   "source": [
    "print(votes.columns)"
   ]
  },
  {
   "cell_type": "code",
   "execution_count": 120,
   "metadata": {},
   "outputs": [],
   "source": [
    "contestants = pd.read_csv('./data/contestants.csv')\n",
    "contestants = contestants.replace({r'\\s+$': '', r'^\\s+': ''}, regex=True).replace(r'\\\\n',  '\\n', regex=True)  # replace \\\\n with \\n for newline prints"
   ]
  },
  {
   "cell_type": "code",
   "execution_count": 121,
   "metadata": {},
   "outputs": [
    {
     "name": "stdout",
     "output_type": "stream",
     "text": [
      "Index(['year', 'to_country_id', 'to_country', 'performer', 'song',\n",
      "       'place_contest', 'sf_num', 'running_final', 'running_sf', 'place_final',\n",
      "       'points_final', 'place_sf', 'points_sf', 'points_tele_final',\n",
      "       'points_jury_final', 'points_tele_sf', 'points_jury_sf', 'composers',\n",
      "       'lyricists', 'lyrics', 'youtube_url'],\n",
      "      dtype='object')\n"
     ]
    }
   ],
   "source": [
    "print(contestants.columns)"
   ]
  },
  {
   "cell_type": "markdown",
   "metadata": {},
   "source": [
    "Participation ranking (don't count 2020 cancelled contest):"
   ]
  },
  {
   "cell_type": "code",
   "execution_count": 150,
   "metadata": {},
   "outputs": [
    {
     "data": {
      "text/html": [
       "<div>\n",
       "<style scoped>\n",
       "    .dataframe tbody tr th:only-of-type {\n",
       "        vertical-align: middle;\n",
       "    }\n",
       "\n",
       "    .dataframe tbody tr th {\n",
       "        vertical-align: top;\n",
       "    }\n",
       "\n",
       "    .dataframe thead th {\n",
       "        text-align: right;\n",
       "    }\n",
       "</style>\n",
       "<table border=\"1\" class=\"dataframe\">\n",
       "  <thead>\n",
       "    <tr style=\"text-align: right;\">\n",
       "      <th></th>\n",
       "      <th>country</th>\n",
       "      <th>participations</th>\n",
       "    </tr>\n",
       "  </thead>\n",
       "  <tbody>\n",
       "    <tr>\n",
       "      <th>0</th>\n",
       "      <td>Albania</td>\n",
       "      <td>12</td>\n",
       "    </tr>\n",
       "    <tr>\n",
       "      <th>28</th>\n",
       "      <td>Moldova</td>\n",
       "      <td>12</td>\n",
       "    </tr>\n",
       "    <tr>\n",
       "      <th>21</th>\n",
       "      <td>Iceland</td>\n",
       "      <td>12</td>\n",
       "    </tr>\n",
       "    <tr>\n",
       "      <th>22</th>\n",
       "      <td>Ireland</td>\n",
       "      <td>12</td>\n",
       "    </tr>\n",
       "    <tr>\n",
       "      <th>23</th>\n",
       "      <td>Israel</td>\n",
       "      <td>12</td>\n",
       "    </tr>\n",
       "    <tr>\n",
       "      <th>25</th>\n",
       "      <td>Latvia</td>\n",
       "      <td>12</td>\n",
       "    </tr>\n",
       "    <tr>\n",
       "      <th>26</th>\n",
       "      <td>Lithuania</td>\n",
       "      <td>12</td>\n",
       "    </tr>\n",
       "    <tr>\n",
       "      <th>27</th>\n",
       "      <td>Malta</td>\n",
       "      <td>12</td>\n",
       "    </tr>\n",
       "    <tr>\n",
       "      <th>30</th>\n",
       "      <td>Netherlands</td>\n",
       "      <td>12</td>\n",
       "    </tr>\n",
       "    <tr>\n",
       "      <th>18</th>\n",
       "      <td>Germany</td>\n",
       "      <td>12</td>\n",
       "    </tr>\n",
       "    <tr>\n",
       "      <th>33</th>\n",
       "      <td>Norway</td>\n",
       "      <td>12</td>\n",
       "    </tr>\n",
       "    <tr>\n",
       "      <th>38</th>\n",
       "      <td>San Marino</td>\n",
       "      <td>12</td>\n",
       "    </tr>\n",
       "    <tr>\n",
       "      <th>41</th>\n",
       "      <td>Slovenia</td>\n",
       "      <td>12</td>\n",
       "    </tr>\n",
       "    <tr>\n",
       "      <th>42</th>\n",
       "      <td>Spain</td>\n",
       "      <td>12</td>\n",
       "    </tr>\n",
       "    <tr>\n",
       "      <th>43</th>\n",
       "      <td>Sweden</td>\n",
       "      <td>12</td>\n",
       "    </tr>\n",
       "    <tr>\n",
       "      <th>44</th>\n",
       "      <td>Switzerland</td>\n",
       "      <td>12</td>\n",
       "    </tr>\n",
       "    <tr>\n",
       "      <th>19</th>\n",
       "      <td>Greece</td>\n",
       "      <td>12</td>\n",
       "    </tr>\n",
       "    <tr>\n",
       "      <th>24</th>\n",
       "      <td>Italy</td>\n",
       "      <td>12</td>\n",
       "    </tr>\n",
       "    <tr>\n",
       "      <th>17</th>\n",
       "      <td>Georgia</td>\n",
       "      <td>12</td>\n",
       "    </tr>\n",
       "    <tr>\n",
       "      <th>16</th>\n",
       "      <td>France</td>\n",
       "      <td>12</td>\n",
       "    </tr>\n",
       "    <tr>\n",
       "      <th>3</th>\n",
       "      <td>Austria</td>\n",
       "      <td>12</td>\n",
       "    </tr>\n",
       "    <tr>\n",
       "      <th>4</th>\n",
       "      <td>Azerbaijan</td>\n",
       "      <td>12</td>\n",
       "    </tr>\n",
       "    <tr>\n",
       "      <th>6</th>\n",
       "      <td>Belgium</td>\n",
       "      <td>12</td>\n",
       "    </tr>\n",
       "    <tr>\n",
       "      <th>47</th>\n",
       "      <td>United Kingdom</td>\n",
       "      <td>12</td>\n",
       "    </tr>\n",
       "    <tr>\n",
       "      <th>13</th>\n",
       "      <td>Denmark</td>\n",
       "      <td>12</td>\n",
       "    </tr>\n",
       "    <tr>\n",
       "      <th>15</th>\n",
       "      <td>Finland</td>\n",
       "      <td>12</td>\n",
       "    </tr>\n",
       "    <tr>\n",
       "      <th>14</th>\n",
       "      <td>Estonia</td>\n",
       "      <td>12</td>\n",
       "    </tr>\n",
       "    <tr>\n",
       "      <th>36</th>\n",
       "      <td>Romania</td>\n",
       "      <td>11</td>\n",
       "    </tr>\n",
       "    <tr>\n",
       "      <th>10</th>\n",
       "      <td>Cyprus</td>\n",
       "      <td>11</td>\n",
       "    </tr>\n",
       "    <tr>\n",
       "      <th>39</th>\n",
       "      <td>Serbia</td>\n",
       "      <td>11</td>\n",
       "    </tr>\n",
       "    <tr>\n",
       "      <th>46</th>\n",
       "      <td>Ukraine</td>\n",
       "      <td>10</td>\n",
       "    </tr>\n",
       "    <tr>\n",
       "      <th>35</th>\n",
       "      <td>Portugal</td>\n",
       "      <td>10</td>\n",
       "    </tr>\n",
       "    <tr>\n",
       "      <th>34</th>\n",
       "      <td>Poland</td>\n",
       "      <td>10</td>\n",
       "    </tr>\n",
       "    <tr>\n",
       "      <th>1</th>\n",
       "      <td>Armenia</td>\n",
       "      <td>10</td>\n",
       "    </tr>\n",
       "    <tr>\n",
       "      <th>9</th>\n",
       "      <td>Croatia</td>\n",
       "      <td>10</td>\n",
       "    </tr>\n",
       "    <tr>\n",
       "      <th>31</th>\n",
       "      <td>North Macedonia</td>\n",
       "      <td>9</td>\n",
       "    </tr>\n",
       "    <tr>\n",
       "      <th>37</th>\n",
       "      <td>Russia</td>\n",
       "      <td>9</td>\n",
       "    </tr>\n",
       "    <tr>\n",
       "      <th>29</th>\n",
       "      <td>Montenegro</td>\n",
       "      <td>9</td>\n",
       "    </tr>\n",
       "    <tr>\n",
       "      <th>5</th>\n",
       "      <td>Belarus</td>\n",
       "      <td>9</td>\n",
       "    </tr>\n",
       "    <tr>\n",
       "      <th>20</th>\n",
       "      <td>Hungary</td>\n",
       "      <td>9</td>\n",
       "    </tr>\n",
       "    <tr>\n",
       "      <th>8</th>\n",
       "      <td>Bulgaria</td>\n",
       "      <td>8</td>\n",
       "    </tr>\n",
       "    <tr>\n",
       "      <th>2</th>\n",
       "      <td>Australia</td>\n",
       "      <td>8</td>\n",
       "    </tr>\n",
       "    <tr>\n",
       "      <th>11</th>\n",
       "      <td>Czech Republic</td>\n",
       "      <td>5</td>\n",
       "    </tr>\n",
       "    <tr>\n",
       "      <th>12</th>\n",
       "      <td>Czechia</td>\n",
       "      <td>3</td>\n",
       "    </tr>\n",
       "    <tr>\n",
       "      <th>7</th>\n",
       "      <td>Bosnia &amp; Herzegovina</td>\n",
       "      <td>3</td>\n",
       "    </tr>\n",
       "    <tr>\n",
       "      <th>32</th>\n",
       "      <td>North MacedoniaN.Macedonia</td>\n",
       "      <td>2</td>\n",
       "    </tr>\n",
       "    <tr>\n",
       "      <th>40</th>\n",
       "      <td>Slovakia</td>\n",
       "      <td>2</td>\n",
       "    </tr>\n",
       "    <tr>\n",
       "      <th>45</th>\n",
       "      <td>Turkey</td>\n",
       "      <td>2</td>\n",
       "    </tr>\n",
       "  </tbody>\n",
       "</table>\n",
       "</div>"
      ],
      "text/plain": [
       "                       country  participations\n",
       "0                      Albania              12\n",
       "28                     Moldova              12\n",
       "21                     Iceland              12\n",
       "22                     Ireland              12\n",
       "23                      Israel              12\n",
       "25                      Latvia              12\n",
       "26                   Lithuania              12\n",
       "27                       Malta              12\n",
       "30                 Netherlands              12\n",
       "18                     Germany              12\n",
       "33                      Norway              12\n",
       "38                  San Marino              12\n",
       "41                    Slovenia              12\n",
       "42                       Spain              12\n",
       "43                      Sweden              12\n",
       "44                 Switzerland              12\n",
       "19                      Greece              12\n",
       "24                       Italy              12\n",
       "17                     Georgia              12\n",
       "16                      France              12\n",
       "3                      Austria              12\n",
       "4                   Azerbaijan              12\n",
       "6                      Belgium              12\n",
       "47              United Kingdom              12\n",
       "13                     Denmark              12\n",
       "15                     Finland              12\n",
       "14                     Estonia              12\n",
       "36                     Romania              11\n",
       "10                      Cyprus              11\n",
       "39                      Serbia              11\n",
       "46                     Ukraine              10\n",
       "35                    Portugal              10\n",
       "34                      Poland              10\n",
       "1                      Armenia              10\n",
       "9                      Croatia              10\n",
       "31             North Macedonia               9\n",
       "37                      Russia               9\n",
       "29                  Montenegro               9\n",
       "5                      Belarus               9\n",
       "20                     Hungary               9\n",
       "8                     Bulgaria               8\n",
       "2                    Australia               8\n",
       "11              Czech Republic               5\n",
       "12                     Czechia               3\n",
       "7         Bosnia & Herzegovina               3\n",
       "32  North MacedoniaN.Macedonia               2\n",
       "40                    Slovakia               2\n",
       "45                      Turkey               2"
      ]
     },
     "execution_count": 150,
     "metadata": {},
     "output_type": "execute_result"
    }
   ],
   "source": [
    "participation_ranking = contestants[(contestants['year'] != 2020) & (contestants['year'] > 2010)].groupby('to_country')['year'].nunique().reset_index() \n",
    "participation_ranking.columns = ['country', 'participations']\n",
    "participation_ranking = participation_ranking.sort_values(by='participations', ascending=False)\n",
    "participation_ranking"
   ]
  },
  {
   "cell_type": "markdown",
   "metadata": {},
   "source": [
    "# Without bias from performing country"
   ]
  },
  {
   "cell_type": "markdown",
   "metadata": {},
   "source": [
    "## Processing data"
   ]
  },
  {
   "cell_type": "markdown",
   "metadata": {},
   "source": [
    "Voting system changes over time. Change the data to percentage of total points awarded. "
   ]
  },
  {
   "cell_type": "markdown",
   "metadata": {},
   "source": [
    "## Correlation matrix"
   ]
  },
  {
   "cell_type": "code",
   "execution_count": 67,
   "metadata": {},
   "outputs": [
    {
     "name": "stdout",
     "output_type": "stream",
     "text": [
      "[2.23076923 2.23076923 2.23076923 2.23076923 2.23076923 2.23076923\n",
      " 2.23076923 2.23076923 2.23076923 2.23076923 2.23076923 2.23076923\n",
      " 2.23076923 2.23076923 2.23076923 2.23076923 2.23076923 2.23076923\n",
      " 2.23076923 2.23076923 2.23076923 2.23076923 2.23076923 2.23076923\n",
      " 2.23076923 2.23076923 2.23076923 2.23076923 2.23076923 2.23076923\n",
      " 2.23076923 2.23076923 2.23076923 2.23076923 2.23076923 2.23076923\n",
      " 2.23076923]\n"
     ]
    }
   ],
   "source": [
    "# Create a new DataFrame to store the sum of points given by each country\n",
    "sum_points_df = votes[(votes['year'] == 2014) & (votes['round'] == 'final')].groupby('from_country').sum().reset_index()['total_points']\n",
    "\n",
    "# Create another DataFrame to store the count of occurrences for each from_country\n",
    "count_df = votes[(votes['year'] == 2014) & (votes['round'] == 'final')].groupby('from_country')['total_points'].count().reset_index()\n",
    "\n",
    "# Merge the two DataFrames to get the sum and count for each country\n",
    "result_df = pd.merge(sum_points_df, count_df, on='from_country', suffixes=('_sum', '_count'))\n",
    "\n",
    "# Calculate the average points given away by each country\n",
    "result_df['average_points_given'] = result_df['total_points_sum'] / result_df['total_points_count']\n",
    "\n",
    "# Display the result or save it to an array\n",
    "result_array = result_df['average_points_given'].to_numpy()\n",
    "\n",
    "print(result_array)"
   ]
  },
  {
   "cell_type": "code",
   "execution_count": 69,
   "metadata": {},
   "outputs": [
    {
     "data": {
      "text/plain": [
       "<matplotlib.image.AxesImage at 0x7fa2456588e0>"
      ]
     },
     "execution_count": 69,
     "metadata": {},
     "output_type": "execute_result"
    },
    {
     "data": {
      "image/png": "[encoded data removed]",
      "text/plain": [
       "<Figure size 432x288 with 1 Axes>"
      ]
     },
     "metadata": {
      "needs_background": "light"
     },
     "output_type": "display_data"
    }
   ],
   "source": [
    "\n",
    "# Pivot the DataFrame to create a matrix of total points given from one country to another\n",
    "pivot_df = votes[(votes['year'] == 2014) & (votes['round'] == 'final')].pivot_table(index='from_country', columns='to_country', values='total_points', aggfunc='sum', fill_value=0)\n",
    "\n",
    "# Calculate pairwise correlations\n",
    "correlation_matrix = pivot_df.corr()\n",
    "\n",
    "# Convert correlation matrix to a 2D numpy array\n",
    "correlation_array = correlation_matrix.to_numpy()\n",
    "\n",
    "plt.imshow(correlation_array, cmap='seismic')"
   ]
  },
  {
   "cell_type": "code",
   "execution_count": 82,
   "metadata": {},
   "outputs": [
    {
     "data": {
      "text/plain": [
       "<matplotlib.image.AxesImage at 0x7fa245905e50>"
      ]
     },
     "execution_count": 82,
     "metadata": {},
     "output_type": "execute_result"
    },
    {
     "data": {
      "image/png": "[encoded data removed]",
      "text/plain": [
       "<Figure size 432x288 with 1 Axes>"
      ]
     },
     "metadata": {
      "needs_background": "light"
     },
     "output_type": "display_data"
    }
   ],
   "source": [
    "# Pivot the DataFrame to create a matrix of total points given from one country to another\n",
    "pivot_df = votes[(votes['round'] == 'final')].pivot_table(index='from_country', columns='to_country', values='total_points', aggfunc='sum', fill_value=0)\n",
    "\n",
    "# Calculate pairwise correlations\n",
    "correlation_matrix = pivot_df.corr()\n",
    "\n",
    "# Convert correlation matrix to a 2D numpy array\n",
    "correlation_array = correlation_matrix.to_numpy()\n",
    "\n",
    "plt.imshow(correlation_array, cmap='seismic')"
   ]
  },
  {
   "cell_type": "code",
   "execution_count": null,
   "metadata": {},
   "outputs": [],
   "source": []
  }
 ],
 "metadata": {
  "kernelspec": {
   "display_name": "Python 3.9.12 ('base')",
   "language": "python",
   "name": "python3"
  },
  "language_info": {
   "codemirror_mode": {
    "name": "ipython",
    "version": 3
   },
   "file_extension": ".py",
   "mimetype": "text/x-python",
   "name": "python",
   "nbconvert_exporter": "python",
   "pygments_lexer": "ipython3",
   "version": "3.9.12"
  },
  "orig_nbformat": 4,
  "vscode": {
   "interpreter": {
    "hash": "793fc19d0c7e407398122103cdf7c5151424988708747fbb101c90b33571ab20"
   }
  }
 },
 "nbformat": 4,
 "nbformat_minor": 2
}
